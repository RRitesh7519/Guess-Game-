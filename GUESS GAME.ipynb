{
 "cells": [
  {
   "cell_type": "code",
   "execution_count": 6,
   "id": "c5bcd714",
   "metadata": {},
   "outputs": [
    {
     "name": "stdout",
     "output_type": "stream",
     "text": [
      "\n",
      "\n",
      " Do You Want To Play (Yes/No): Yes\n",
      "\n",
      "\n",
      "You have left 5 chances to win this game.\n",
      "25\n",
      "\n",
      "\n",
      "Hint: Your Guess is Low, Think a Bigger Number\n",
      "\n",
      "\n",
      "You have left 4 chances to win this game.\n",
      "35\n",
      "\n",
      "\n",
      "Hint: Your Guess is High, Think a Lower Number\n",
      "\n",
      "\n",
      "You have left 3 chances to win this game.\n",
      "27\n",
      "\n",
      "\n",
      "Hint: Your Guess is Low, Think a Bigger Number\n",
      "\n",
      "\n",
      "You have left 2 chances to win this game.\n",
      "30\n",
      "\n",
      "\n",
      "Yeah!!! You Such a Master!! You have won the game.\n",
      "\n",
      "\n",
      "\n",
      "\n",
      "\n",
      " Do You Want To Play (Yes/No): No\n"
     ]
    }
   ],
   "source": [
    "from random import randint\n",
    "while input(\"\\n\\n Do You Want To Play (Yes/No): \").strip().lower()=='yes':\n",
    "    comGuess = randint(1,50) #generating a random number between 1-50\n",
    "    chances = 5\n",
    "    while chances > 0:\n",
    "        print(f\"\\n\\nYou have left {chances} chances to win this game.\")\n",
    "        userGuess = int(input())\n",
    "        if userGuess>50 or userGuess<1:\n",
    "            print(\"\\n\\n!! Warning!! Guess Only Between 1-50\")\n",
    "            continue\n",
    "        if userGuess == comGuess:\n",
    "            print(\"\\n\\nYeah!!! You Such a Master!!! You have won the game.\")\n",
    "            print(\"\\n\\n\")\n",
    "            break\n",
    "        elif userGuess > comGuess:\n",
    "            print(\"\\n\\nHint: Your Guess is High, Think a Lower Number\")\n",
    "        else:\n",
    "            print(\"\\n\\nHint: Your Guess is Low, Think a Bigger Number\")\n",
    "        chances-=1\n",
    "    else:\n",
    "        print(f\"\\n\\n!!Computer Guess Was {comGuess}!!\")\n",
    "        print(\"\\n\\n!!hahaha!! You Such a Looser!!!\")\n",
    "        print(\"\\n\\n\")\n"
   ]
  },
  {
   "cell_type": "code",
   "execution_count": null,
   "id": "0ac3186e",
   "metadata": {},
   "outputs": [],
   "source": []
  }
 ],
 "metadata": {
  "kernelspec": {
   "display_name": "Python 3",
   "language": "python",
   "name": "python3"
  },
  "language_info": {
   "codemirror_mode": {
    "name": "ipython",
    "version": 3
   },
   "file_extension": ".py",
   "mimetype": "text/x-python",
   "name": "python",
   "nbconvert_exporter": "python",
   "pygments_lexer": "ipython3",
   "version": "3.8.8"
  }
 },
 "nbformat": 4,
 "nbformat_minor": 5
}
